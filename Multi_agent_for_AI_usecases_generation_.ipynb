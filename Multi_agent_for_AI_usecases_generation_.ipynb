{
  "nbformat": 4,
  "nbformat_minor": 0,
  "metadata": {
    "colab": {
      "provenance": [],
      "authorship_tag": "ABX9TyP2UEGptiggrsT7lkUyD9xh",
      "include_colab_link": true
    },
    "kernelspec": {
      "name": "python3",
      "display_name": "Python 3"
    },
    "language_info": {
      "name": "python"
    }
  },
  "cells": [
    {
      "cell_type": "markdown",
      "metadata": {
        "id": "view-in-github",
        "colab_type": "text"
      },
      "source": [
        "<a href=\"https://colab.research.google.com/github/yeshavyas27/ai_usecases_generation_multiagent/blob/main/Multi_agent_for_AI_usecases_generation_.ipynb\" target=\"_parent\"><img src=\"https://colab.research.google.com/assets/colab-badge.svg\" alt=\"Open In Colab\"/></a>"
      ]
    },
    {
      "cell_type": "code",
      "source": [
        "!pip install -q condacolab\n",
        "import condacolab\n",
        "condacolab.install()"
      ],
      "metadata": {
        "colab": {
          "base_uri": "https://localhost:8080/"
        },
        "id": "n1wjW-pKSFHU",
        "outputId": "5ea86d05-7bf1-4061-80f4-e2fea7c4fe9f"
      },
      "execution_count": 2,
      "outputs": [
        {
          "output_type": "stream",
          "name": "stdout",
          "text": [
            "✨🍰✨ Everything looks OK!\n"
          ]
        }
      ]
    },
    {
      "cell_type": "code",
      "execution_count": 4,
      "metadata": {
        "colab": {
          "base_uri": "https://localhost:8080/"
        },
        "collapsed": true,
        "id": "BJmoQTcOU2zV",
        "outputId": "a2bf2357-6acf-45ff-b8d8-c25ceaf063c7"
      },
      "outputs": [
        {
          "output_type": "stream",
          "name": "stdout",
          "text": [
            "Channels:\n",
            " - conda-forge\n",
            "Platform: linux-64\n",
            "Collecting package metadata (repodata.json): - \b\b\\ \b\b| \b\b/ \b\b- \b\b\\ \b\b| \b\b/ \b\b- \b\b\\ \b\bdone\n",
            "Solving environment: / \b\b- \b\b\\ \b\b| \b\b/ \b\bfailed\n",
            "\n",
            "PackagesNotFoundError: The following packages are not available from current channels:\n",
            "\n",
            "  - tavily-python\n",
            "  - langgraph-checkpoint-sqlite\n",
            "  - langchain_mistralai\n",
            "\n",
            "Current channels:\n",
            "\n",
            "  - https://conda.anaconda.org/conda-forge\n",
            "\n",
            "To search for alternate channels that may provide the conda package you're\n",
            "looking for, navigate to\n",
            "\n",
            "    https://anaconda.org\n",
            "\n",
            "and use the search bar at the top of the page.\n",
            "\n",
            "\n",
            "Channels:\n",
            " - conda-forge\n",
            "Platform: linux-64\n",
            "Collecting package metadata (repodata.json): - \b\b\\ \b\b| \b\b/ \b\b- \b\b\\ \b\b| \b\b/ \b\b- \b\bdone\n",
            "Solving environment: | \b\b/ \b\b- \b\b\\ \b\b| \b\bdone\n",
            "\n",
            "\n",
            "==> WARNING: A newer version of conda exists. <==\n",
            "    current version: 24.11.3\n",
            "    latest version: 25.3.1\n",
            "\n",
            "Please update conda by running\n",
            "\n",
            "    $ conda update -n base -c conda-forge conda\n",
            "\n",
            "\n",
            "\n",
            "# All requested packages already installed.\n",
            "\n"
          ]
        }
      ],
      "source": [
        "!conda install tavily-python langgraph langgraph-checkpoint-sqlite langchain_mistralai\n",
        "!conda install pygraphviz"
      ]
    },
    {
      "cell_type": "code",
      "source": [
        "from google.colab import userdata\n",
        "import os\n",
        "\n",
        "os.environ[\"TAVILY_API_KEY\"] = userdata.get('TAVILY_API_KEY')\n",
        "os.environ[\"MISTRAL_API_KEY\"] = userdata.get('MISTRAL_API_KEY')"
      ],
      "metadata": {
        "id": "BcR9TMd_VKsj"
      },
      "execution_count": 5,
      "outputs": []
    },
    {
      "cell_type": "code",
      "source": [
        "from tavily import TavilyClient\n",
        "tavily = TavilyClient(api_key=os.environ[\"TAVILY_API_KEY\"])"
      ],
      "metadata": {
        "id": "kf8U1RokVeTM"
      },
      "execution_count": 6,
      "outputs": []
    },
    {
      "cell_type": "code",
      "source": [
        "from langgraph.graph import StateGraph, END\n",
        "from typing import TypedDict, Annotated, List\n",
        "from langgraph.checkpoint.sqlite import SqliteSaver\n",
        "from langchain_core.messages import AnyMessage, SystemMessage, HumanMessage, AIMessage, ChatMessage\n",
        "from langgraph.checkpoint.memory import MemorySaver\n",
        "import sqlite3\n",
        "\n",
        "# memory = SqliteSaver.from_conn_string(\":memory:\")\n",
        "db_path = 'checkpoints.db'\n",
        "conn = sqlite3.connect(db_path, check_same_thread=False)\n",
        "memory = SqliteSaver(conn)\n"
      ],
      "metadata": {
        "id": "zwYZsnNrW4r1"
      },
      "execution_count": 7,
      "outputs": []
    },
    {
      "cell_type": "code",
      "source": [
        "from pydantic import BaseModel, Field\n",
        "\n",
        "class Queries(BaseModel):\n",
        "  queries: List[str]\n",
        "\n",
        "\n",
        "class Sources(BaseModel):\n",
        "  data: str\n",
        "  url: str\n",
        "  id: int\n",
        "\n",
        "\n",
        "class CitedUseCase(BaseModel):\n",
        "    answer: str = Field(\n",
        "        ...,\n",
        "        description=\"All the data of a usecase, which is based only on the given sources.\",\n",
        "    )\n",
        "    citations: List[int] = Field(\n",
        "        ...,\n",
        "        description=\"The integer IDs of the SPECIFIC sources which justify the usecase.\",\n",
        "    )\n",
        "\n",
        "class CitedUseCaseWithAssets(CitedUseCase):\n",
        "    assets: List[str]\n",
        "\n",
        "class UseCases(BaseModel):\n",
        "    usecases: List[CitedUseCase]"
      ],
      "metadata": {
        "id": "nT-RCythppWt"
      },
      "execution_count": 8,
      "outputs": []
    },
    {
      "cell_type": "code",
      "source": [
        "class AgentState(TypedDict):\n",
        "    input_company_industry: str\n",
        "    assets: List[str]\n",
        "    draft: str\n",
        "    content: List[Sources]\n",
        "    source_id_start: int\n",
        ""
      ],
      "metadata": {
        "id": "G_J8wTp_g5AI"
      },
      "execution_count": 9,
      "outputs": []
    },
    {
      "cell_type": "code",
      "source": [
        "from langchain_mistralai import ChatMistralAI\n",
        "\n",
        "model = ChatMistralAI(\n",
        "    model=\"mistral-small-latest\",\n",
        "    temperature=0,\n",
        ")"
      ],
      "metadata": {
        "id": "C4S3q1oAjK5g"
      },
      "execution_count": 10,
      "outputs": []
    },
    {
      "cell_type": "code",
      "source": [
        "RESEARCH_INDUSTRY_PROMPT = \"\"\"\n",
        "You are an expert at identifying relevant industries given a company name or industry name.\n",
        "Generate a list of search queries that will gather key focus areas for the company or industry (e.g., operations, supply chain, customer experience, etc.)\n",
        "Different products related to the industry or company should also be included.\n",
        "Generate a list of search queries that will gather any relevant information.\n",
        "Only generate 3 queries max.\n",
        "\n",
        "\"\"\"\n",
        "\n",
        "RESEARCH_AI_USECASES_PROMPT = \"\"\"\n",
        "You are an expert in finding loopholes in various industries which can be resolved by Artificial Intelligence (AI), Machine Learning (ML) and Automation.\n",
        "Refer to reports and insights on AI and digital transformation from industry-specific sources to find potential solutions.\n",
        "It could improve efficiency, solve problems and innvoate. Generate a list of search queries that will gather any relevant information given the data. A\n",
        "Only generate 5 queries max.\n",
        "\n",
        "\"\"\"\n",
        "\n",
        "WRITER_PROMPT = \"\"\"\n",
        "You are an AI expert who can identify areas usecases of Artificial Intelligence (AI), Machine Learning (ML) and Automation in a given company/industry.\n",
        "You are given data on possible usecases in a specific industry. Identify the best top 3 usecases and provide details for each including the problem and it's solution using AI, ML or automation. Do not explicitly use the word problem and solution. Write a paragraph for each usecase.\n",
        "\"\"\"\n",
        "\n",
        "RESEARCH_DATASETS_FOR_USECASES_PROMPT = \"\"\"\n",
        "You are an expert at searching relevant datasets/ databases or relevant projects for a solving problem or usecase, which can be used for AI, ML and automation.\n",
        "Generate a list of search queries that will gather any relevant information to this.\n",
        "Only generate 3 queries max.\n",
        "\"\"\""
      ],
      "metadata": {
        "id": "Wtdg0wIuioRf"
      },
      "execution_count": 50,
      "outputs": []
    },
    {
      "cell_type": "code",
      "source": [
        "def research_and_identify_industry_node(state: AgentState):\n",
        "  queries = model.with_structured_output(Queries).invoke([\n",
        "        SystemMessage(content=RESEARCH_INDUSTRY_PROMPT),\n",
        "        HumanMessage(content=f\"Here is the company/industry: {state['input_company_industry']}.\")\n",
        "        ])\n",
        "  content =  state.get('content', [])\n",
        "  source_id_start = state['source_id_start']\n",
        "  for q in queries.queries:\n",
        "      response = tavily.search(query=q, max_results=2)\n",
        "      for r in response['results']:\n",
        "        source_id_start = source_id_start + 1\n",
        "        content.append(Sources(data=r['content'], url=r['url'], id=source_id_start))\n",
        "\n",
        "  return {\"content\": content}\n",
        "\n",
        "def research_relevant_ai_usecases_node(state: AgentState):\n",
        "  queries = model.with_structured_output(Queries).invoke([\n",
        "        SystemMessage(content=RESEARCH_AI_USECASES_PROMPT),\n",
        "        HumanMessage(content=f\"Here is company/industry: {state['input_company_industry']}. Some relevant data to the industry: {' '.join([source.data for source in state['content']])}\")\n",
        "        ])\n",
        "  content = state['content']\n",
        "  source_id_start = content[-1].id\n",
        "  for q in queries.queries:\n",
        "      response = tavily.search(query=q, max_results=2)\n",
        "      for r in response['results']:\n",
        "        source_id_start = source_id_start + 1\n",
        "        content.append(Sources(data=r['content'], url=r['url'], id=source_id_start))\n",
        "\n",
        "  return {\"content\": content}\n",
        "\n",
        "def generate_draft_node(state: AgentState):\n",
        "  usecases = model.with_structured_output(UseCases).invoke([\n",
        "        SystemMessage(content=WRITER_PROMPT),\n",
        "        HumanMessage(content=f\"Here is company/industry: {state['input_company_industry']}. Some relevant data to the industry and possible usecases: {' '.join([f' Source: {source.id} Information:{source.data} ' for source in state['content']])}\")\n",
        "        ])\n",
        "  return {\"draft\": usecases}\n",
        "\n",
        "def research_assets_for_usecases_node(state: AgentState):\n",
        "  # loop through the list and find relevant datasets\n",
        "  content = state['content']\n",
        "  draft = state['draft']\n",
        "\n",
        "  usecases_with_assets = []\n",
        "  for usecase in draft.usecases:\n",
        "    queries = model.with_structured_output(Queries).invoke([\n",
        "          SystemMessage(content=RESEARCH_DATASETS_FOR_USECASES_PROMPT),\n",
        "          HumanMessage(content=f\"The problem domain or usecase that I am trying to solve for is {usecase.answer}\")\n",
        "          ])\n",
        "    urls = []\n",
        "\n",
        "    for q in queries.queries:\n",
        "        response = tavily.search(query=q, max_results=2, include_domains=[\"kaggle.com/datasets\", \"huggingface.co/datasets\", \"github.com\"])\n",
        "        for r in response['results']:\n",
        "          urls.append(r['url'])\n",
        "    usecases_with_assets.append(\n",
        "        CitedUseCaseWithAssets(\n",
        "            answer=usecase.answer,\n",
        "            citations=usecase.citations,\n",
        "            assets=urls\n",
        "        )\n",
        "    )\n",
        "\n",
        "  return {\"draft\": usecases_with_assets}\n",
        "\n",
        "\n"
      ],
      "metadata": {
        "id": "z-eoWVBjVNqx"
      },
      "execution_count": 51,
      "outputs": []
    },
    {
      "cell_type": "code",
      "source": [
        "builder = StateGraph(AgentState)\n",
        "builder.add_node(\"research_industry\", research_and_identify_industry_node)\n",
        "builder.add_node(\"research_ai_usecases\", research_relevant_ai_usecases_node)\n",
        "builder.add_node(\"generate_draft\", generate_draft_node)\n",
        "builder.add_node(\"research_assets\", research_assets_for_usecases_node)\n"
      ],
      "metadata": {
        "colab": {
          "base_uri": "https://localhost:8080/"
        },
        "id": "_nIA7PtDqIch",
        "outputId": "cc76bd93-41c1-4fb4-ff61-1006c6bfe1a6"
      },
      "execution_count": 52,
      "outputs": [
        {
          "output_type": "execute_result",
          "data": {
            "text/plain": [
              "<langgraph.graph.state.StateGraph at 0x7c47f23ddad0>"
            ]
          },
          "metadata": {},
          "execution_count": 52
        }
      ]
    },
    {
      "cell_type": "code",
      "source": [
        "builder.set_entry_point(\"research_industry\")"
      ],
      "metadata": {
        "colab": {
          "base_uri": "https://localhost:8080/"
        },
        "id": "MHvMkGpwqoq-",
        "outputId": "c1dbbba8-8c70-4765-fe0d-336261bc0835"
      },
      "execution_count": 53,
      "outputs": [
        {
          "output_type": "execute_result",
          "data": {
            "text/plain": [
              "<langgraph.graph.state.StateGraph at 0x7c47f23ddad0>"
            ]
          },
          "metadata": {},
          "execution_count": 53
        }
      ]
    },
    {
      "cell_type": "code",
      "source": [
        "builder.add_edge(\"research_industry\", \"research_ai_usecases\")\n",
        "builder.add_edge(\"research_ai_usecases\", \"generate_draft\")\n",
        "builder.add_edge( \"generate_draft\", \"research_assets\")\n",
        "builder.add_edge( \"research_assets\", END)\n",
        "\n",
        "\n"
      ],
      "metadata": {
        "colab": {
          "base_uri": "https://localhost:8080/"
        },
        "id": "ai33f6RcqvtJ",
        "outputId": "5370b0ba-7a06-43ff-9218-265c182a3b55"
      },
      "execution_count": 54,
      "outputs": [
        {
          "output_type": "execute_result",
          "data": {
            "text/plain": [
              "<langgraph.graph.state.StateGraph at 0x7c47f23ddad0>"
            ]
          },
          "metadata": {},
          "execution_count": 54
        }
      ]
    },
    {
      "cell_type": "code",
      "source": [
        "user_input = \"Myntra\"\n",
        "config = {\"configurable\": {\"thread_id\": \"6\"}}\n",
        "graph = builder.compile(checkpointer=memory)\n",
        "for s in graph.stream({\n",
        "      'input_company_industry': user_input,\n",
        "      \"source_id_start\": 0\n",
        "\n",
        "  }, config):\n",
        "      print(s)\n"
      ],
      "metadata": {
        "colab": {
          "base_uri": "https://localhost:8080/"
        },
        "id": "0759l9Qcq5Bp",
        "outputId": "245a4409-fa83-408b-a89f-177a9eba9672"
      },
      "execution_count": 58,
      "outputs": [
        {
          "output_type": "stream",
          "name": "stdout",
          "text": [
            "{'research_industry': {'content': [Sources(data='By addressing these areas of improvement, Myntra can continue to improve its supply chain operations and deliver a better customer experience. #myntra#myntralogistics#supplychain#logistics#', url='https://www.linkedin.com/pulse/supply-chain-efficiencies-areas-improvement-myntra-devendra-rachelkar', id=1), Sources(data='Disruptions in the supply chain, whether due to external factors or internal inefficiencies, can adversely affect product availability and customer satisfaction. 4. Limited Physical Presence: Unlike some competitors adopting an omnichannel approach with physical stores complementing their online platforms, Myntra primarily operates online.', url='https://www.businessscroller.com/myntra-swot-analysis/', id=2), Sources(data='Description: This dataset contains information about various fashion products available on Myntra. It includes details such as product names, categories, prices, ratings, and reviews. Use: We used this dataset to analyze product popularity, price distribution, and customer ratings to understand current market trends. Key Insights:', url='https://github.com/bhanu-sri/Myntra_Fashion_Trends-Analysis', id=3), Sources(data=\"The goal of this project is to analyze Myntra's sales data using Power BI to uncover revenue trends, brand performance, product category distribution, customer preferences, and geographical sales insights. The dashboard enables stakeholders to make data-driven decisions through interactive reports.\", url='https://github.com/Avika-Garg011/Myntra-Sales', id=4), Sources(data='Despite facing tough competition from these key players in the fashion e-commerce space, Myntra continues to innovate and adapt to changing market trends to maintain its position as a leading online fashion destination for customers in India.', url='https://canvasbusinessmodel.com/blogs/target-market/myntra-target-market', id=5), Sources(data='With a focus on leveraging technology, understanding customer preferences, and strengthening partnerships with brands, Myntra has continuously evolved to stay ahead in the competitive e-commerce fashion market. With a dedicated team of professionals and a passion for fashion, Myntra is well-positioned for future growth and success in the competitive e-commerce market. Despite facing tough competition from these key players, Myntra continues to differentiate itself through its focus on fashion trends, exclusive brand partnerships, personalized shopping experience, and innovative marketing strategies. As Myntra continues to establish itself as a leading fashion e-commerce company, there are several key opportunities that lie ahead for its growth and expansion in the market.', url='https://canvasbusinessmodel.com/blogs/growth-strategy/myntra-growth-strategy', id=6)]}}\n",
            "{'research_ai_usecases': {'content': [Sources(data='By addressing these areas of improvement, Myntra can continue to improve its supply chain operations and deliver a better customer experience. #myntra#myntralogistics#supplychain#logistics#', url='https://www.linkedin.com/pulse/supply-chain-efficiencies-areas-improvement-myntra-devendra-rachelkar', id=1), Sources(data='Disruptions in the supply chain, whether due to external factors or internal inefficiencies, can adversely affect product availability and customer satisfaction. 4. Limited Physical Presence: Unlike some competitors adopting an omnichannel approach with physical stores complementing their online platforms, Myntra primarily operates online.', url='https://www.businessscroller.com/myntra-swot-analysis/', id=2), Sources(data='Description: This dataset contains information about various fashion products available on Myntra. It includes details such as product names, categories, prices, ratings, and reviews. Use: We used this dataset to analyze product popularity, price distribution, and customer ratings to understand current market trends. Key Insights:', url='https://github.com/bhanu-sri/Myntra_Fashion_Trends-Analysis', id=3), Sources(data=\"The goal of this project is to analyze Myntra's sales data using Power BI to uncover revenue trends, brand performance, product category distribution, customer preferences, and geographical sales insights. The dashboard enables stakeholders to make data-driven decisions through interactive reports.\", url='https://github.com/Avika-Garg011/Myntra-Sales', id=4), Sources(data='Despite facing tough competition from these key players in the fashion e-commerce space, Myntra continues to innovate and adapt to changing market trends to maintain its position as a leading online fashion destination for customers in India.', url='https://canvasbusinessmodel.com/blogs/target-market/myntra-target-market', id=5), Sources(data='With a focus on leveraging technology, understanding customer preferences, and strengthening partnerships with brands, Myntra has continuously evolved to stay ahead in the competitive e-commerce fashion market. With a dedicated team of professionals and a passion for fashion, Myntra is well-positioned for future growth and success in the competitive e-commerce market. Despite facing tough competition from these key players, Myntra continues to differentiate itself through its focus on fashion trends, exclusive brand partnerships, personalized shopping experience, and innovative marketing strategies. As Myntra continues to establish itself as a leading fashion e-commerce company, there are several key opportunities that lie ahead for its growth and expansion in the market.', url='https://canvasbusinessmodel.com/blogs/growth-strategy/myntra-growth-strategy', id=6), Sources(data='For example, TES could be used to explore the potential consequences of AI-driven personalization in fashion e-commerce, such as the creation of echo chambers or the reinforcement of harmful beauty standards. By using TES, fashion companies can develop strategies to mitigate these risks, such as diversifying AI training datasets or implementing', url='https://link.springer.com/article/10.1007/s00146-024-02151-3', id=7), Sources(data='', url='http://www.google.com/search?hl=en&q=\"AI-driven+personalization+in+fashion+e-commerce\"', id=8)]}}\n",
            "{'generate_draft': {'draft': UseCases(usecases=[CitedUseCase(answer='Improving Supply Chain Operations: Myntra can leverage AI and machine learning to optimize its supply chain operations. By analyzing historical data and real-time information, predictive analytics can forecast demand more accurately, ensuring that popular items are always in stock. Additionally, AI-driven logistics management can streamline inventory management, reduce lead times, and enhance overall efficiency. This approach can help in maintaining product availability and improving customer satisfaction by minimizing disruptions caused by external factors or internal inefficiencies.', citations=[1, 2]), CitedUseCase(answer='Enhancing Customer Personalization: Myntra can utilize machine learning algorithms to analyze customer data, including browsing history, purchase patterns, and preferences. This data can be used to create personalized shopping experiences, recommending products that align with individual customer tastes. By offering tailored suggestions and exclusive brand partnerships, Myntra can enhance customer engagement and loyalty, setting itself apart in the competitive fashion e-commerce market.', citations=[4, 6]), CitedUseCase(answer='Dynamic Pricing Strategy: Myntra can implement AI-driven dynamic pricing to adjust product prices in real-time based on market trends, competitor pricing, and customer demand. By analyzing product popularity, price distribution, and customer ratings, Myntra can optimize pricing strategies to maximize revenue and remain competitive. This approach can help in attracting price-sensitive customers while maintaining profitability, thereby driving sales and customer satisfaction.', citations=[3, 6])])}}\n",
            "{'research_assets': {'draft': [CitedUseCaseWithAssets(answer='Improving Supply Chain Operations: Myntra can leverage AI and machine learning to optimize its supply chain operations. By analyzing historical data and real-time information, predictive analytics can forecast demand more accurately, ensuring that popular items are always in stock. Additionally, AI-driven logistics management can streamline inventory management, reduce lead times, and enhance overall efficiency. This approach can help in maintaining product availability and improving customer satisfaction by minimizing disruptions caused by external factors or internal inefficiencies.', citations=[1, 2], assets=['https://github.com/bhshivani/Ecommerce-supply-chain-analysis', 'https://github.com/microsoft/OptiGuide', 'https://github.com/tushar2704/Store-Demand-Forecasting', 'https://huggingface.co/datasets/infinite-dataset-hub/RetailSales', 'https://huggingface.co/datasets/AI-MO/NuminaMath-TIR', 'https://huggingface.co/datasets/Cainiao-AI/LaDe-D']), CitedUseCaseWithAssets(answer='Enhancing Customer Personalization: Myntra can utilize machine learning algorithms to analyze customer data, including browsing history, purchase patterns, and preferences. This data can be used to create personalized shopping experiences, recommending products that align with individual customer tastes. By offering tailored suggestions and exclusive brand partnerships, Myntra can enhance customer engagement and loyalty, setting itself apart in the competitive fashion e-commerce market.', citations=[4, 6], assets=['https://www.kaggle.com/datasets/thedevastator/online-shopping-consumer-behavior-dataset', 'https://github.com/aws-samples/amazon-personalize-samples/blob/master/next_steps/core_use_cases/user_personalization/user-personalization-with-contextual-recommendations.ipynb', 'https://www.kaggle.com/datasets/shriyashjagtap/e-commerce-customer-for-behavior-analysis', 'https://www.kaggle.com/datasets/uom190346a/e-commerce-customer-behavior-dataset', 'https://github.com/topics/product-recommendation', 'https://github.com/Adharsh0/online-retail-recommendation-system-using-python/blob/main/onlinerecommendation.py']), CitedUseCaseWithAssets(answer='Dynamic Pricing Strategy: Myntra can implement AI-driven dynamic pricing to adjust product prices in real-time based on market trends, competitor pricing, and customer demand. By analyzing product popularity, price distribution, and customer ratings, Myntra can optimize pricing strategies to maximize revenue and remain competitive. This approach can help in attracting price-sensitive customers while maintaining profitability, thereby driving sales and customer satisfaction.', citations=[3, 6], assets=['https://github.com/topics/dynamic-pricing', 'https://github.com/Abhi2850/Dynamic-Pricing-Strategy', 'https://www.kaggle.com/datasets/promptcloud/e-commerce-and-retail-datasets-2025', 'https://www.kaggle.com/datasets/utkalk/large-retail-data-set-for-eda', 'https://huggingface.co/datasets/Marqo/deepfashion-multimodal', 'https://huggingface.co/datasets/Marqo/fashion200k/tree/main/data'])]}}\n"
          ]
        }
      ]
    },
    {
      "cell_type": "code",
      "source": [
        "\n",
        "\n",
        "content = graph.get_state(config).values[\"content\"]\n",
        "\n",
        "for usecases in s[\"research_assets\"][\"draft\"]:\n",
        "  print(f\"\\n\\n {usecases.answer}\\n\")\n",
        "  print(f\" References links: \\n {' , '.join([content[citation_id].url for citation_id in usecases.citations])}\\n\")\n",
        "  print(f\"Assets / Datasets links for the usecase: \\n{' , '.join(usecases.assets)} \\n\")\n",
        "  print('=' * 500)\n"
      ],
      "metadata": {
        "colab": {
          "base_uri": "https://localhost:8080/"
        },
        "id": "cUxlNgvxRpYZ",
        "outputId": "d5f5acea-a40c-435f-9ba4-f0db158ed399"
      },
      "execution_count": 59,
      "outputs": [
        {
          "output_type": "stream",
          "name": "stdout",
          "text": [
            "\n",
            "\n",
            " Improving Supply Chain Operations: Myntra can leverage AI and machine learning to optimize its supply chain operations. By analyzing historical data and real-time information, predictive analytics can forecast demand more accurately, ensuring that popular items are always in stock. Additionally, AI-driven logistics management can streamline inventory management, reduce lead times, and enhance overall efficiency. This approach can help in maintaining product availability and improving customer satisfaction by minimizing disruptions caused by external factors or internal inefficiencies.\n",
            "\n",
            " References links: \n",
            " https://www.businessscroller.com/myntra-swot-analysis/ , https://github.com/bhanu-sri/Myntra_Fashion_Trends-Analysis\n",
            "\n",
            "Assets / Datasets links for the usecase: \n",
            "https://github.com/bhshivani/Ecommerce-supply-chain-analysis , https://github.com/microsoft/OptiGuide , https://github.com/tushar2704/Store-Demand-Forecasting , https://huggingface.co/datasets/infinite-dataset-hub/RetailSales , https://huggingface.co/datasets/AI-MO/NuminaMath-TIR , https://huggingface.co/datasets/Cainiao-AI/LaDe-D \n",
            "\n",
            "====================================================================================================================================================================================================================================================================================================================================================================================================================================================================================================================\n",
            "\n",
            "\n",
            " Enhancing Customer Personalization: Myntra can utilize machine learning algorithms to analyze customer data, including browsing history, purchase patterns, and preferences. This data can be used to create personalized shopping experiences, recommending products that align with individual customer tastes. By offering tailored suggestions and exclusive brand partnerships, Myntra can enhance customer engagement and loyalty, setting itself apart in the competitive fashion e-commerce market.\n",
            "\n",
            " References links: \n",
            " https://canvasbusinessmodel.com/blogs/target-market/myntra-target-market , https://link.springer.com/article/10.1007/s00146-024-02151-3\n",
            "\n",
            "Assets / Datasets links for the usecase: \n",
            "https://www.kaggle.com/datasets/thedevastator/online-shopping-consumer-behavior-dataset , https://github.com/aws-samples/amazon-personalize-samples/blob/master/next_steps/core_use_cases/user_personalization/user-personalization-with-contextual-recommendations.ipynb , https://www.kaggle.com/datasets/shriyashjagtap/e-commerce-customer-for-behavior-analysis , https://www.kaggle.com/datasets/uom190346a/e-commerce-customer-behavior-dataset , https://github.com/topics/product-recommendation , https://github.com/Adharsh0/online-retail-recommendation-system-using-python/blob/main/onlinerecommendation.py \n",
            "\n",
            "====================================================================================================================================================================================================================================================================================================================================================================================================================================================================================================================\n",
            "\n",
            "\n",
            " Dynamic Pricing Strategy: Myntra can implement AI-driven dynamic pricing to adjust product prices in real-time based on market trends, competitor pricing, and customer demand. By analyzing product popularity, price distribution, and customer ratings, Myntra can optimize pricing strategies to maximize revenue and remain competitive. This approach can help in attracting price-sensitive customers while maintaining profitability, thereby driving sales and customer satisfaction.\n",
            "\n",
            " References links: \n",
            " https://github.com/Avika-Garg011/Myntra-Sales , https://link.springer.com/article/10.1007/s00146-024-02151-3\n",
            "\n",
            "Assets / Datasets links for the usecase: \n",
            "https://github.com/topics/dynamic-pricing , https://github.com/Abhi2850/Dynamic-Pricing-Strategy , https://www.kaggle.com/datasets/promptcloud/e-commerce-and-retail-datasets-2025 , https://www.kaggle.com/datasets/utkalk/large-retail-data-set-for-eda , https://huggingface.co/datasets/Marqo/deepfashion-multimodal , https://huggingface.co/datasets/Marqo/fashion200k/tree/main/data \n",
            "\n",
            "====================================================================================================================================================================================================================================================================================================================================================================================================================================================================================================================\n"
          ]
        }
      ]
    },
    {
      "cell_type": "code",
      "source": [
        "from IPython.display import Image, display\n",
        "\n",
        "display(\n",
        "    Image(\n",
        "        graph.get_graph().draw_png()\n",
        "    )\n",
        ")"
      ],
      "metadata": {
        "colab": {
          "base_uri": "https://localhost:8080/",
          "height": 802
        },
        "id": "QonvYS5NE2pn",
        "outputId": "83ee7ba0-665f-4a05-8a13-7e5b7dd949a5"
      },
      "execution_count": 57,
      "outputs": [
        {
          "output_type": "display_data",
          "data": {
            "image/png": "[encoded data removed]",
            "text/plain": [
              "<IPython.core.display.Image object>"
            ]
          },
          "metadata": {}
        }
      ]
    },
    {
      "cell_type": "code",
      "source": [],
      "metadata": {
        "id": "z11PTn3CKxvd"
      },
      "execution_count": 57,
      "outputs": []
    }
  ]
}